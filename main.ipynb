{
 "cells": [
  {
   "cell_type": "code",
   "execution_count": 36,
   "metadata": {},
   "outputs": [
    {
     "name": "stdout",
     "output_type": "stream",
     "text": [
      "4 3 9 9 5 2 10 2 10 "
     ]
    }
   ],
   "source": [
    "# angka random \n",
    "import random \n",
    "\n",
    "for i in range(1, 10):\n",
    "    angka = random.randint(1, 10)\n",
    "    print(angka, end= ' ')"
   ]
  },
  {
   "cell_type": "code",
   "execution_count": 50,
   "metadata": {},
   "outputs": [
    {
     "name": "stdout",
     "output_type": "stream",
     "text": [
      "ini adalah mean :  6.0\n",
      "ini adalah median :  5.0\n",
      "ini adalah average :  6.0\n"
     ]
    }
   ],
   "source": [
    "import numpy as np\n",
    "\n",
    "nilaiArr = ([4, 3, 9, 9, 5, 2, 10, 2, 10])\n",
    "mean = np.mean(nilaiArr)\n",
    "median = np.median(nilaiArr)\n",
    "average = np.average(nilaiArr)\n",
    "\n",
    "print(\"ini adalah mean : \" , mean)\n",
    "print(\"ini adalah median : \", median)\n",
    "print(\"ini adalah average : \", average)\n",
    "\n",
    "# besok belajar library numpy\n"
   ]
  }
 ],
 "metadata": {
  "kernelspec": {
   "display_name": "Python 3",
   "language": "python",
   "name": "python3"
  },
  "language_info": {
   "codemirror_mode": {
    "name": "ipython",
    "version": 3
   },
   "file_extension": ".py",
   "mimetype": "text/x-python",
   "name": "python",
   "nbconvert_exporter": "python",
   "pygments_lexer": "ipython3",
   "version": "3.12.2"
  }
 },
 "nbformat": 4,
 "nbformat_minor": 2
}
