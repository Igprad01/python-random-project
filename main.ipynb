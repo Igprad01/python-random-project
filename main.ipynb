{
 "cells": [
  {
   "cell_type": "code",
   "execution_count": 29,
   "metadata": {},
   "outputs": [
    {
     "name": "stdout",
     "output_type": "stream",
     "text": [
      "adasdsadasdasd\n",
      "\n"
     ]
    }
   ],
   "source": [
    "# open handling file \n",
    "buka = open(\"path/nama.txt\", \"r\")\n",
    "print(buka.read())"
   ]
  },
  {
   "cell_type": "code",
   "execution_count": 12,
   "metadata": {},
   "outputs": [
    {
     "name": "stdout",
     "output_type": "stream",
     "text": [
      "6, 5, 7, 4, 9, 6, 10, 9, 3, "
     ]
    }
   ],
   "source": [
    "# angka random \n",
    "import random \n",
    "\n",
    "for i in range(1, 10):\n",
    "    angka = random.randint(1, 10)\n",
    "    print(angka, end= ', ')"
   ]
  },
  {
   "cell_type": "code",
   "execution_count": 2,
   "metadata": {},
   "outputs": [
    {
     "name": "stdout",
     "output_type": "stream",
     "text": [
      "ini adalah mean : 4.111111111111111 , ini adalah median : 4.0 , ini adalah average : 4.111111111111111\n"
     ]
    }
   ],
   "source": [
    "import numpy as np\n",
    "\n",
    "\n",
    "nilaiArr = ([2, 4, 4, 2, 6, 3, 2, 9, 5])\n",
    "mean = np.mean(nilaiArr)\n",
    "median = np.median(nilaiArr)\n",
    "average = np.average(nilaiArr)\n",
    "\n",
    "\n",
    "\n",
    "print(\n",
    "    \"ini adalah mean :\", mean,\n",
    "    \", ini adalah median :\", median,\n",
    "    \", ini adalah average :\", average\n",
    ")\n",
    "\n",
    "# print(\"ini adalah mean : \" , mean)\n",
    "# print(\"ini adalah median : \", median)\n",
    "# print(\"ini adalah average : \", average)\n"
   ]
  },
  {
   "cell_type": "code",
   "execution_count": 4,
   "metadata": {},
   "outputs": [
    {
     "name": "stdout",
     "output_type": "stream",
     "text": [
      "[{'gen': '3', 'nama lengkap ': 'Shani Gracia', 'tanggal lahir': '31', 'bulan lahir': 'Agustus', 'tahun lahir': '1999', 'horoskop': 'Virgo', 'tinggi Badan': '161 cm', 'Jikoshokai': 'Senyumku akan terekam jelas dalam ingatanmu seperti foto dengan sejuta warna. Namaku Gracia. Always smile', 'picture': './assets/img/Gracia.jpg', 'status': 'Member - Active'}, {'gen': '3', 'nama lengkap ': 'Feny Fitriyanti', 'tanggal lahir': '16', 'bulan lahir': 'Januari', 'tahun lahir': '1999', 'horoskop': 'Capricorn', 'tinggi Badan': '162 cm', 'Jikoshokai': 'Matahari yang indah, yang akan memberikan kehangatan di setiap harinya. Halo Aku Feni', 'picture': None, 'status': 'Member - Active'}, {'gen': '6', 'nama lengkap': 'Gita Sekar Andarini ', 'tanggal lahir': '30', 'bulan lahir': 'Juni', 'tahun lahir': '2001', 'horoskop': 'Cancer', 'tinggi Badan': '165 cm', 'Jikoshokai': 'Diam bukan berarti tidak memperhatikanmu, aku Gita!', 'picture': None, 'status': 'Member - Active'}, {'gen': '7', 'nama lengkap': 'Angelina Christy', 'tanggal lahir': '5', 'bulan lahir': 'Desember', 'tahun lahir': '2005', 'horoskop': 'Sagitarius', 'tinggi Badan': '163 cm', 'Jikoshokai': 'Peduli dan berbaik hati, siapakah dia? Christy~', 'picture': None, 'status': 'Member - Active'}, {'gen': '7', 'nama lengkap': 'Azizi Asadel', 'tanggal lahir': '16', 'bulan lahir': 'Mei', 'tahun lahir': '2004', 'horoskop': 'Taurus', 'tinggi Badan': '162 cm', 'Jikoshokai': 'Si gadis tomboy yang semangatnya meletup-letup, aku Zee!', 'picture': None, 'status': 'Member - Active'}, {'gen': '7', 'nama lengkap': 'Febriola Sinambela', 'tanggal lahir': '26', 'bulan lahir': 'Februari', 'tahun lahir': '2005', 'horoskop': 'Pisces', 'tinggi Badan': '154 Cm', 'Jikoshokai': 'Dengan keajaibanku, aku akan membuat kalian penasaran denganku. Halo aku Olla, si mechanic girl', 'picture': None, 'status': 'Member - Active'}, {'gen': '7', 'nama lengkap': 'Freya Jayawardana', 'tanggal lahir': '13', 'bulan lahir': 'Februari', 'tahun lahir': '2005', 'horoskop': 'Aquarius', 'tinggi Badan': '154 Cm', 'Jikoshokai': 'Gadis Koleris yang suka berimajinasi, terangi harimu dengan senyuman karamelku. Halo, aku Freya!', 'picture': None, 'status': 'Member - Active'}, {'gen': '7', 'nama lengkap': 'Helisma Putri', 'tanggal lahir': '15', 'bulan lahir': 'Juni', 'tahun lahir': '2000', 'horoskop': 'Gemini', 'tinggi Badan': '165 Cm', 'Jikoshokai': 'Aprikot aprikot aprikot aprikot, pang! Dengan energi kegembiraanku aku akan menghangatkan suasana. Halo halo aku Eli!', 'picture': None, 'status': 'Member - Active'}, {'gen': '7', 'nama lengkap': 'Jessica Chandra', 'tanggal lahir': '23', 'bulan lahir': 'September', 'tahun lahir': '2005', 'horoskop': 'Libra', 'tinggi Badan': '163 Cm', 'Jikoshokai': 'Suka menari dan akan berusaha menjadi sumber energimu. Hai, aku Jessi', 'picture': None, 'status': 'Member - Active'}, {'gen': '7', 'nama lengkap': 'Mutiara Azzahra', 'tanggal lahir': '12', 'bulan lahir': 'Juli', 'tahun lahir': '2004', 'horoskop': 'Cancer', 'tinggi Badan': '158 Cm', 'Jikoshokai': 'Dengan kelincahanku, aku akan menari setiap hari. Panggil aku Mu Mu Mu Muthe! Dont touch, dont touch, dont touch touch touch!', 'picture': None, 'status': 'Member - Active'}, {'gen': '8', 'nama lengkap': 'Cornelia Vanisa', 'tanggal lahir': '26', 'bulan lahir': 'Juli', 'tahun lahir': '2002', 'horoskop': 'Leo', 'tinggi Badan': '162 Cm', 'Jikoshokai': 'Seperti teka-teki yang akan membuat kalian penasaran denganku! Halo aku Oniel!', 'picture': None, 'status': 'Member - Active'}, {'gen': '8', 'nama lengkap': 'Fiony Alveria', 'tanggal lahir': '4', 'bulan lahir': 'Februari', 'tahun lahir': '2002', 'horoskop': 'Aquarius', 'tinggi Badan': '158 Cm', 'Jikoshokai': 'Seperti simfoni yang menenangkan hati. Halo, aku Fiony!', 'picture': None, 'status': 'Member - Active'}, {'gen': '8', 'nama lengkap': 'Flora Shafiq', 'tanggal lahir': '4', 'bulan lahir': 'April', 'tahun lahir': '2005', 'horoskop': 'Aries', 'tinggi Badan': '149 Cm', 'Jikoshokai': 'Ada yang mau ikut aku? Ayo ikut ke dunia Flora, simsalabim akan ku buat kamu, jadi berbunga-bunga. Halo, aku Flora!', 'picture': None, 'status': 'Member - Active'}, {'gen': '8', 'nama lengkap': '  Lulu Salsabila', 'tanggal lahir': '23', 'bulan lahir': 'April', 'tahun lahir': '2002', 'horoskop': 'Scorpio', 'tinggi Badan': '157 Cm', 'Jikoshokai': 'Seperti ombak laut yang tenang, tiba-tiba aku akan menyapumu dengan banyak cinta! Aku Lulu!', 'picture': None, 'status': 'Member - Active'}, {'gen': '8', 'nama lengkap': 'Reva Fidela', 'tanggal lahir': '14', 'bulan lahir': 'Juli', 'tahun lahir': '2006', 'horoskop': 'Cancer', 'tinggi Badan': '159 Cm', 'Jikoshokai': 'Bagai kucing yang kalem, tapi selalu memikat hati kamu, hai aku Adel!', 'picture': None, 'status': 'Member - Active'}, {'gen': '9', 'nama lengkap': 'Kathrina Irene', 'tanggal lahir': '26', 'bulan lahir': 'Juli', 'tahun lahir': '2006', 'horoskop': 'Leo', 'tinggi Badan': '165 Cm', 'Jikoshokai': 'Never miss a chance to be a star! Hai Semua, aku Kathrina', 'picture': None, 'status': 'Member - Active'}, {'gen': '9', 'nama lengkap': 'Marsha Lenathea', 'tanggal lahir': '9', 'bulan lahir': 'Januari', 'tahun lahir': '2006', 'horoskop': 'Capricorn', 'tinggi Badan': '163 Cm', 'Jikoshokai': 'Seperti pizza yang selalu dinanti-nantikan semua orang, selalu nantikan aku ya! Halo, aku Marsha', 'picture': None, 'status': 'Member - Active'}, {'gen': '9', 'nama lengkap': 'Indah Cahya', 'tanggal lahir': '20', 'bulan lahir': 'Maret', 'tahun lahir': '2001', 'horoskop': 'Pisces', 'tinggi Badan': '165 Cm', 'Jikoshokai': 'Tak banyak bicara bercerita lewat tulisan. Hai aku Indah!', 'picture': None, 'status': 'Member - Active'}, {'gen': '10', 'nama lengkap': 'Indira Seruni', 'tanggal lahir': '26', 'bulan lahir': 'April', 'tahun lahir': '2004', 'horoskop': 'Taurus', 'tinggi Badan': '160 Cm', 'Jikoshokai': 'Watashi no kokoro unlock, akan menemani hari-harimu dengan sepenuh hati. Hai, aku Indira!', 'picture': None, 'status': 'Suspended'}, {'gen': '10', 'nama lengkap': 'Gabriela Abigail', 'tanggal lahir': '7', 'bulan lahir': 'Agustus', 'tahun lahir': '2006', 'horoskop': 'Leo', 'tinggi Badan': '160 Cm', 'Jikoshokai': 'Ohayo! Konnichiwa! Oyasumi! Aku ingin ada di setiap harimu. Hai, Aku Ella!', 'picture': None, 'status': 'Member - Active'}, {'gen': '10', 'nama lengkap': 'Aurellia', 'tanggal lahir': '29', 'bulan lahir': 'Oktober', 'tahun lahir': '2002', 'horoskop': 'Scorpio', 'tinggi Badan': '155 Cm', 'Jikoshokai': 'Si social butterfly yang energik dan periang! Aku Lia!', 'picture': None, 'status': 'Member - Active'}, {'gen': '10', 'nama lengkap': 'Raisha Syifa', 'tanggal lahir': '11', 'bulan lahir': 'November', 'tahun lahir': '2007', 'horoskop': 'Scorpio', 'tinggi Badan': '163 Cm', 'Jikoshokai': 'Kalau sakura itu kembang, Aku itu kembanggaanmu! Hai, aku Raisha!', 'picture': None, 'status': 'Member - Active'}, {'gen': '10', 'nama lengkap': 'Callista Alifia', 'tanggal lahir': '8', 'bulan lahir': 'Agustus', 'tahun lahir': '2005', 'horoskop': 'Leo', 'tinggi Badan': '157 Cm', 'Jikoshokai': 'Si beruang madu, penyuka madu! Aku Callie!', 'picture': None, 'status': 'Suspended'}, {'gen': '10', 'nama lengkap': 'Amanda Sukma', 'tanggal lahir': '17', 'bulan lahir': 'Desember', 'tahun lahir': '2004', 'horoskop': 'Sagitarius', 'tinggi Badan': '160 Cm', 'Jikoshokai': 'Melaju cepat bagai motor 1000cc! Aku si gadis penyuka motor.', 'picture': None, 'status': 'Suspended'}, {'gen': '10', 'nama lengkap': 'Jesslyn Elly', 'tanggal lahir': '13', 'bulan lahir': 'September', 'tahun lahir': '2001', 'horoskop': 'Virgo', 'tinggi Badan': '155 Cm', 'Jikoshokai': 'Seperti ombak laut yang tenang, tiba-tiba aku akan menyapumu dengan banyak cinta! Aku Lyn!', 'picture': None, 'status': 'Member - Active'}, {'gen': '11', 'nama lengkap': 'Greesella Adhalia', 'tanggal lahir': '10', 'bulan lahir': 'Januari', 'tahun lahir': '2006', 'horoskop': 'Virgo', 'tinggi Badan': '165 Cm', 'Jikoshokai': 'Pandangan mataku akan menyinari hatimu bagaikan kunang-kunang di malam hari. Halo aku Greesel', 'picture': None, 'status': 'Member - Active'}, {'gen': '11', 'nama lengkap': 'Grace Octaviani', 'tanggal lahir': '18', 'bulan lahir': 'Oktober', 'tahun lahir': '2007', 'horoskop': 'Libra', 'tinggi Badan': '165 Cm', 'Jikoshokai': 'Manis seperti gulali, imut seperti kelinci. Halo aku Gracie!', 'picture': None, 'status': 'Member - Active'}, {'gen': '11', 'nama lengkap': 'Alya Amanda', 'tanggal lahir': '26', 'bulan lahir': 'Agustus', 'tahun lahir': '2006', 'horoskop': 'Virgo', 'tinggi Badan': '165 Cm', 'Jikoshokai': 'Jika hatimu sedang menangis, aku akan datang sebagai pelangi. Hai, aku Alya!', 'picture': None, 'status': 'Member - Trainne'}, {'gen': '11', 'nama lengkap': 'Anindya Ramadhani', 'tanggal lahir': '18', 'bulan lahir': 'Oktober', 'tahun lahir': '2005', 'horoskop': 'Libra', 'tinggi Badan': '154 Cm', 'Jikoshokai': 'Si mungil hadir, semanis mangga. Hai, aku Anindya!', 'picture': None, 'status': 'Member - Trainne'}, {'gen': '11', 'nama lengkap': 'Cathleen Nixie', 'tanggal lahir': '28', 'bulan lahir': 'Mei', 'tahun lahir': '2009', 'horoskop': 'Gemini', 'tinggi Badan': '158 Cm', 'Jikoshokai': 'Cring… Si peri cantik jelita, itulah aku. Halo, aku Cathy!', 'picture': None, 'status': 'Member - Trainne'}, {'gen': '11', 'nama lengkap': 'Celline Thefani', 'tanggal lahir': '9', 'bulan lahir': 'April', 'tahun lahir': '2007', 'horoskop': 'Aries', 'tinggi Badan': '163 Cm', 'Jikoshokai': 'Semanis permen kapas dan seindah bunga lavender. Halo, aku Elin!', 'picture': None, 'status': 'Member - Trainne'}, {'gen': '11', 'nama lengkap': 'Chelsea Davina', 'tanggal lahir': '23', 'bulan lahir': 'Desember', 'tahun lahir': '2009', 'horoskop': 'Capricorn', 'tinggi Badan': '168 Cm', 'Jikoshokai': 'As bright as the shooting stars in the starry night sky. Halo, aku Chelsea!', 'picture': None, 'status': 'Member - Trainne'}, {'gen': '11', 'nama lengkap': 'Cynthia Yaputera', 'tanggal lahir': '22', 'bulan lahir': 'November', 'tahun lahir': '2003', 'horoskop': 'Sagitarius', 'tinggi Badan': '158 Cm', 'Jikoshokai': 'Semangatku terus menerus meluap, pop pop. Aku Cynthia!', 'picture': None, 'status': 'Member - Trainne'}, {'gen': '11', 'nama lengkap': 'Dena Natalia', 'tanggal lahir': '16', 'bulan lahir': 'Desember', 'tahun lahir': '2005', 'horoskop': 'Sagitarius', 'tinggi Badan': '162 Cm', 'Jikoshokai': 'Tok tok! Siapa? Si penari yang akan menarikmu ke duniaku. aku Danella!', 'picture': None, 'status': 'Member - Trainne'}, {'gen': '11', 'nama lengkap': 'Desy Natalia', 'tanggal lahir': '16', 'bulan lahir': 'Desember', 'tahun lahir': '2005', 'horoskop': 'Sagitarius', 'tinggi Badan': '165 Cm', 'Jikoshokai': 'Seperti bunga daisy, aku akan memancarkan kesegaran dan kebahagiaan. Halo aku Daisy!', 'picture': None, 'status': 'Member - Trainne'}, {'gen': '11', 'nama lengkap': 'Gendis Mayrannisa', 'tanggal lahir': '23', 'bulan lahir': 'Juni', 'tahun lahir': '2010', 'horoskop': 'Cancer', 'tinggi Badan': '160 Cm', 'Jikoshokai': 'Bonjour, periang dan pencair suasana itulah aku, Gendis!', 'picture': None, 'status': 'Member - Trainne'}, {'gen': '12', 'nama lengkap': 'Abigail Rachel', 'tanggal lahir': '6', 'bulan lahir': 'Agustus', 'tahun lahir': '2008', 'horoskop': 'Leo', 'tinggi Badan': '161 Cm', 'Jikoshokai': 'Seperti bunga yang mekar, aku akan membuat kamu…kamu…dan kamu terbayang-bayang. Aku Ara, Aralie!', 'picture': None, 'status': 'Member - Trainne'}, {'gen': '12', 'nama lengkap': 'Adeline Wijaya', 'tanggal lahir': '1', 'bulan lahir': 'September', 'tahun lahir': '2007', 'horoskop': 'Virgo', 'tinggi Badan': '167 Cm', 'Jikoshokai': 'Nyemangatin dan ngangenin, siapa yang kamu pikirkan? Delynn', 'picture': None, 'status': 'Member - Trainne'}, {'gen': '12', 'nama lengkap': 'Aisa Maharani', 'tanggal lahir': '31', 'bulan lahir': 'Januari', 'tahun lahir': '2006', 'horoskop': 'Aquarius', 'tinggi Badan': '162 Cm', 'Jikoshokai': 'Horas wei! Gadis ceria yang akan membawamu ke dunia keajaiban penuh warna. Halo, panggil aku Shasa!', 'picture': None, 'status': 'Member - Trainne'}, {'gen': '12', 'nama lengkap': 'Aurhel Alana', 'tanggal lahir': '14', 'bulan lahir': 'September', 'tahun lahir': '2006', 'horoskop': 'Virgo', 'tinggi Badan': '163 Cm', 'Jikoshokai': 'Dengan kekuatan bulan aku akan menyihirmu dengan pesonaku!', 'picture': None, 'status': 'Member - Trainne'}, {'gen': '12', 'nama lengkap': 'Catherina Vallencia', 'tanggal lahir': '21', 'bulan lahir': 'Agustus', 'tahun lahir': '2007', 'horoskop': 'Leo', 'tinggi Badan': '163 Cm', 'Jikoshokai': 'Hadir dengan seribu kejutan..Checkmate! Siap memenangkan hatimu!', 'picture': None, 'status': 'Member - Trainne'}, {'gen': '12', 'nama lengkap': 'Fritzy Rosmerian', 'tanggal lahir': '28', 'bulan lahir': 'Juli', 'tahun lahir': '2008', 'horoskop': 'Leo', 'tinggi Badan': '157 Cm', 'Jikoshokai': 'Abracadabra, si pesulap yang siap membuat hatimu terpikat!', 'picture': None, 'status': 'Member - Trainne'}, {'gen': '12', 'nama lengkap': 'Hillary Abigail', 'tanggal lahir': '19', 'bulan lahir': 'Oktober', 'tahun lahir': '2007', 'horoskop': 'Libra', 'tinggi Badan': '160 Cm', 'Jikoshokai': 'Papipapipu aku akan mengejutkanmu dengan kehebatan ku', 'picture': None, 'status': 'Member - Trainne'}, {'gen': '12', 'nama lengkap': 'Jazzlyn Trisha', 'tanggal lahir': '16', 'bulan lahir': 'Februari', 'tahun lahir': '2011', 'horoskop': 'Aquarius', 'tinggi Badan': '164 Cm', 'Jikoshokai': 'Pelukis yang hadir di mimpi-mimpi indahmu. One, two, Tri..sha!', 'picture': None, 'status': 'Member - Trainne'}, {'gen': '12', 'nama lengkap': 'Letycia Moreen', 'tanggal lahir': '7', 'bulan lahir': 'Juni', 'tahun lahir': '2010', 'horoskop': 'Gemini', 'tinggi Badan': '160 Cm', 'Jikoshokai': 'Sweet as bubble gum, graceful as a princess. Siapakah itu? One and only, Moreen!', 'picture': None, 'status': 'Member - Trainne'}, {'gen': '12', 'nama lengkap': 'Michelle Levia', 'tanggal lahir': '24', 'bulan lahir': 'Januari', 'tahun lahir': '2009', 'horoskop': 'Aquarius', 'tinggi Badan': '168 Cm', 'Jikoshokai': 'Are you ready? Jalani hari ini dengan menari bersama ku! Yuhu, Aku Levi!', 'picture': None, 'status': 'Member - Trainne'}, {'gen': '12', 'nama lengkap': 'Nayla Suji', 'tanggal lahir': '18', 'bulan lahir': 'Juni', 'tahun lahir': '2007', 'horoskop': 'Gemini', 'tinggi Badan': '161 Cm', 'Jikoshokai': 'Moshi..Mosh! Welcome Nayla Land! Halo semuanya, bakyu-n nama aku Nayla!', 'picture': None, 'status': 'Member - Trainne'}, {'gen': '12', 'nama lengkap': 'Nina Tutachia', 'tanggal lahir': '16', 'bulan lahir': 'Oktober', 'tahun lahir': '2009', 'horoskop': 'Libra', 'tinggi Badan': '162 Cm', 'Jikoshokai': 'Si Panda Unyu yang selalu ceria! Hai aku Nachia, bikin kamu bahagia!', 'picture': None, 'status': 'Member - Trainne'}, {'gen': '12', 'nama lengkap': 'Oline Manuel', 'tanggal lahir': '3', 'bulan lahir': 'November', 'tahun lahir': '2007', 'horoskop': 'Scorpio', 'tinggi Badan': '162 Cm', 'Jikoshokai': 'Semangatku full terus! Guess…guess…Oline!', 'picture': None, 'status': 'Member - Trainne'}, {'gen': '12', 'nama lengkap': 'Regina Wilian', 'tanggal lahir': '10', 'bulan lahir': 'Desember', 'tahun lahir': '2009', 'horoskop': 'Sagitarius', 'tinggi Badan': '169 Cm', 'Jikoshokai': 'Bagi kalium yang bereaksi dengan air, aku akan meledak dengan semangat ku! Boom! Aku Regie!', 'picture': None, 'status': 'Member - Trainne'}, {'gen': '12', 'nama lengkap': 'Ribka Budiman', 'tanggal lahir': '13', 'bulan lahir': 'Januari', 'tahun lahir': '2009', 'horoskop': 'Capricorn', 'tinggi Badan': '163 Cm', 'Jikoshokai': 'Mirror..Mirror on the wall..who the sweetest in here..It’s me Ribka!', 'picture': None, 'status': 'Member - Trainne'}, {'gen': '12', 'nama lengkap': 'Shabilqis Naila', 'tanggal lahir': '1', 'bulan lahir': 'September', 'tahun lahir': '2008', 'horoskop': 'Virgo', 'tinggi Badan': '160 Cm', 'Jikoshokai': 'Roar! Si Singa pemberani yang siap menyemangati harimu!', 'picture': None, 'status': 'Member - Trainne'}, {'gen': '12', 'nama lengkap': 'Victoria Kimberly', 'tanggal lahir': '8', 'bulan lahir': 'Maret', 'tahun lahir': '2010', 'horoskop': 'Pisces', 'tinggi Badan': '158 Cm', 'Jikoshokai': 'Bagi hamster yang lincah, aku akan berlari-lari di pikiranmu. Halo Haa katakan Kimmy!', 'picture': None, 'status': 'Member - Trainne'}]\n"
     ]
    }
   ],
   "source": [
    "# fetch api\n",
    "\n",
    "import requests\n",
    "\n",
    "url = requests.get('https://jkt48member.vercel.app/member')\n",
    "dat = url.json()\n",
    "# item = dat[2]\n",
    "print(dat)  "
   ]
  },
  {
   "cell_type": "code",
   "execution_count": 19,
   "metadata": {},
   "outputs": [
    {
     "name": "stdout",
     "output_type": "stream",
     "text": [
      "Prediksi penjualan untuk bulan ke-5: 54.50\n",
      "Transpose dari matriks bulan:\n",
      "[[1 2 3 4]\n",
      " [1 1 1 1]]\n"
     ]
    }
   ],
   "source": [
    "import numpy as np\n",
    "\n",
    "# Data penjualan triwulan\n",
    "penjualan = np.array([11, 23, 30, 45])\n",
    "# Bulan 1 hingga 4\n",
    "bulan = np.array([1, 2, 3, 4])\n",
    "\n",
    "# Membuat matriks bulan dalam bentuk kolom\n",
    "bulan_matrix = np.column_stack((bulan, np.ones_like(bulan)))\n",
    "\n",
    "# Menghitung slope dan intercept menggunakan least squares\n",
    "slope, intercept = np.linalg.lstsq(bulan_matrix, penjualan, rcond=None)[0]\n",
    "\n",
    "# Prediksi penjualan untuk bulan ke-5\n",
    "bulan_ke_5 = 5\n",
    "prediksi_penjualan_bulan_5 = slope * bulan_ke_5 + intercept\n",
    "\n",
    "print(f\"Prediksi penjualan untuk bulan ke-5: {prediksi_penjualan_bulan_5:.2f}\")\n",
    "\n",
    "# Transpose matrix bulan\n",
    "bulan_transpose = bulan_matrix.transpose()\n",
    "\n",
    "print(\"Transpose dari matriks bulan:\")\n",
    "print(bulan_transpose)\n"
   ]
  }
 ],
 "metadata": {
  "kernelspec": {
   "display_name": "Python 3",
   "language": "python",
   "name": "python3"
  },
  "language_info": {
   "codemirror_mode": {
    "name": "ipython",
    "version": 3
   },
   "file_extension": ".py",
   "mimetype": "text/x-python",
   "name": "python",
   "nbconvert_exporter": "python",
   "pygments_lexer": "ipython3",
   "version": "3.12.2"
  }
 },
 "nbformat": 4,
 "nbformat_minor": 2
}
