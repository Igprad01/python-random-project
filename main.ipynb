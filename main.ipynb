{
 "cells": [
  {
   "cell_type": "code",
   "execution_count": 29,
   "metadata": {},
   "outputs": [
    {
     "name": "stdout",
     "output_type": "stream",
     "text": [
      "adasdsadasdasd\n",
      "\n"
     ]
    }
   ],
   "source": [
    "# open handling file \n",
    "buka = open(\"path/nama.txt\", \"r\")\n",
    "print(buka.read())"
   ]
  },
  {
   "cell_type": "code",
   "execution_count": 12,
   "metadata": {},
   "outputs": [
    {
     "name": "stdout",
     "output_type": "stream",
     "text": [
      "6, 5, 7, 4, 9, 6, 10, 9, 3, "
     ]
    }
   ],
   "source": [
    "# angka random \n",
    "import random \n",
    "\n",
    "for i in range(1, 10):\n",
    "    angka = random.randint(1, 10)\n",
    "    print(angka, end= ', ')"
   ]
  },
  {
   "cell_type": "code",
   "execution_count": 2,
   "metadata": {},
   "outputs": [
    {
     "name": "stdout",
     "output_type": "stream",
     "text": [
      "ini adalah mean : 4.111111111111111 , ini adalah median : 4.0 , ini adalah average : 4.111111111111111\n"
     ]
    }
   ],
   "source": [
    "import numpy as np\n",
    "\n",
    "\n",
    "nilaiArr = ([2, 4, 4, 2, 6, 3, 2, 9, 5])\n",
    "mean = np.mean(nilaiArr)\n",
    "median = np.median(nilaiArr)\n",
    "average = np.average(nilaiArr)\n",
    "\n",
    "\n",
    "\n",
    "print(\n",
    "    \"ini adalah mean :\", mean,\n",
    "    \", ini adalah median :\", median,\n",
    "    \", ini adalah average :\", average\n",
    ")\n",
    "\n",
    "# print(\"ini adalah mean : \" , mean)\n",
    "# print(\"ini adalah median : \", median)\n",
    "# print(\"ini adalah average : \", average)\n"
   ]
  },
  {
   "cell_type": "code",
   "execution_count": 1,
   "metadata": {},
   "outputs": [
    {
     "name": "stdout",
     "output_type": "stream",
     "text": [
      "{'holiday_date': '2024-12-25', 'holiday_name': 'Hari Raya Natal', 'is_national_holiday': True}\n"
     ]
    }
   ],
   "source": [
    "# fetch api\n",
    "\n",
    "import requests\n",
    "\n",
    "url = requests.get('https://api-harilibur.vercel.app/api')\n",
    "dat = url.json()\n",
    "item = dat[0]\n",
    "print(item)"
   ]
  },
  {
   "cell_type": "code",
   "execution_count": null,
   "metadata": {},
   "outputs": [],
   "source": [
    "# Belajar membuat grafik berdasarkan data set "
   ]
  }
 ],
 "metadata": {
  "kernelspec": {
   "display_name": "Python 3",
   "language": "python",
   "name": "python3"
  },
  "language_info": {
   "codemirror_mode": {
    "name": "ipython",
    "version": 3
   },
   "file_extension": ".py",
   "mimetype": "text/x-python",
   "name": "python",
   "nbconvert_exporter": "python",
   "pygments_lexer": "ipython3",
   "version": "3.12.2"
  }
 },
 "nbformat": 4,
 "nbformat_minor": 2
}
