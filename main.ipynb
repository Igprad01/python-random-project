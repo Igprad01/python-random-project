{
 "cells": [
  {
   "cell_type": "code",
   "execution_count": 29,
   "metadata": {},
   "outputs": [
    {
     "name": "stdout",
     "output_type": "stream",
     "text": [
      "adasdsadasdasd\n",
      "\n"
     ]
    }
   ],
   "source": [
    "# open handling file \n",
    "buka = open(\"path/nama.txt\", \"r\")\n",
    "print(buka.read())"
   ]
  },
  {
   "cell_type": "code",
   "execution_count": 12,
   "metadata": {},
   "outputs": [
    {
     "name": "stdout",
     "output_type": "stream",
     "text": [
      "6, 5, 7, 4, 9, 6, 10, 9, 3, "
     ]
    }
   ],
   "source": [
    "# angka random \n",
    "import random \n",
    "\n",
    "for i in range(1, 10):\n",
    "    angka = random.randint(1, 10)\n",
    "    print(angka, end= ', ')"
   ]
  },
  {
   "cell_type": "code",
   "execution_count": 2,
   "metadata": {},
   "outputs": [
    {
     "name": "stdout",
     "output_type": "stream",
     "text": [
      "ini adalah mean : 4.111111111111111 , ini adalah median : 4.0 , ini adalah average : 4.111111111111111\n"
     ]
    }
   ],
   "source": [
    "import numpy as np\n",
    "\n",
    "\n",
    "nilaiArr = ([2, 4, 4, 2, 6, 3, 2, 9, 5])\n",
    "mean = np.mean(nilaiArr)\n",
    "median = np.median(nilaiArr)\n",
    "average = np.average(nilaiArr)\n",
    "\n",
    "\n",
    "\n",
    "print(\n",
    "    \"ini adalah mean :\", mean,\n",
    "    \", ini adalah median :\", median,\n",
    "    \", ini adalah average :\", average\n",
    ")\n",
    "\n",
    "# print(\"ini adalah mean : \" , mean)\n",
    "# print(\"ini adalah median : \", median)\n",
    "# print(\"ini adalah average : \", average)\n"
   ]
  },
  {
   "cell_type": "code",
   "execution_count": 1,
   "metadata": {},
   "outputs": [
    {
     "name": "stdout",
     "output_type": "stream",
     "text": [
      "{'holiday_date': '2024-12-25', 'holiday_name': 'Hari Raya Natal', 'is_national_holiday': True}\n"
     ]
    }
   ],
   "source": [
    "# fetch api\n",
    "\n",
    "import requests\n",
    "\n",
    "url = requests.get('https://api-harilibur.vercel.app/api')\n",
    "dat = url.json()\n",
    "item = dat[0]\n",
    "print(item)"
   ]
  },
  {
   "cell_type": "code",
   "execution_count": 19,
   "metadata": {},
   "outputs": [
    {
     "name": "stdout",
     "output_type": "stream",
     "text": [
      "Prediksi penjualan untuk bulan ke-5: 54.50\n",
      "Transpose dari matriks bulan:\n",
      "[[1 2 3 4]\n",
      " [1 1 1 1]]\n"
     ]
    }
   ],
   "source": [
    "import numpy as np\n",
    "\n",
    "# Data penjualan triwulan\n",
    "penjualan = np.array([11, 23, 30, 45])\n",
    "# Bulan 1 hingga 4\n",
    "bulan = np.array([1, 2, 3, 4])\n",
    "\n",
    "# Membuat matriks bulan dalam bentuk kolom\n",
    "bulan_matrix = np.column_stack((bulan, np.ones_like(bulan)))\n",
    "\n",
    "# Menghitung slope dan intercept menggunakan least squares\n",
    "slope, intercept = np.linalg.lstsq(bulan_matrix, penjualan, rcond=None)[0]\n",
    "\n",
    "# Prediksi penjualan untuk bulan ke-5\n",
    "bulan_ke_5 = 5\n",
    "prediksi_penjualan_bulan_5 = slope * bulan_ke_5 + intercept\n",
    "\n",
    "print(f\"Prediksi penjualan untuk bulan ke-5: {prediksi_penjualan_bulan_5:.2f}\")\n",
    "\n",
    "# Transpose matrix bulan\n",
    "bulan_transpose = bulan_matrix.transpose()\n",
    "\n",
    "print(\"Transpose dari matriks bulan:\")\n",
    "print(bulan_transpose)\n"
   ]
  }
 ],
 "metadata": {
  "kernelspec": {
   "display_name": "Python 3",
   "language": "python",
   "name": "python3"
  },
  "language_info": {
   "codemirror_mode": {
    "name": "ipython",
    "version": 3
   },
   "file_extension": ".py",
   "mimetype": "text/x-python",
   "name": "python",
   "nbconvert_exporter": "python",
   "pygments_lexer": "ipython3",
   "version": "3.12.2"
  }
 },
 "nbformat": 4,
 "nbformat_minor": 2
}
